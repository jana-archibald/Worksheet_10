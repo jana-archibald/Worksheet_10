{
 "cells": [
  {
   "cell_type": "markdown",
   "metadata": {},
   "source": [
    "# Worksheet 10: Hypothesis Test for Mean #\n",
    "\n",
    "### Tools and Formulae: ###\n",
    "Recall: The formula for the confidence interval for one mean with a large sample size ($n \\geq 30$) is\n",
    "$$\\bar{x} \\pm z^*\\frac{s}{\\sqrt{n}}$$\n",
    "For the sampling distribution of one mean\n",
    "$$\\mu_{\\bar{x}} = \\bar{x}$$\n",
    "\n",
    "$$\\sigma_{\\bar{x}} = \\frac{s}{\\sqrt{n}}$$\n",
    "You may choose to use normalplot, if so run the next codeblock."
   ]
  },
  {
   "cell_type": "code",
   "execution_count": null,
   "metadata": {},
   "outputs": [],
   "source": [
    "normalplot<-function(m,sd,region=0){\n",
    "  x<-seq(m-(3.5)*sd,m+(3.5)*sd,length=1000)\n",
    "  y<-dnorm(x,m,sd)\n",
    "  plot(x,y,type=\"l\",xlab=\"\",ylab=\"\", bty=\"n\", yaxt=\"n\")\n",
    "  h <- dnorm(m,m,sd)\n",
    "  z<-x[x>region[1]]\n",
    "  z<-z[z<region[2]]\n",
    "  polygon(c(region[1],z,region[2]),\n",
    "          c(0,dnorm(z,m,sd),0),col=\"gray\")\n",
    "  abline(v=m)\n",
    "  abline(h=0)}"
   ]
  },
  {
   "cell_type": "markdown",
   "metadata": {
    "editable": false
   },
   "source": [
    "### Instructions: ###\n",
    "* Use appropriate tools to display the required information.\n",
    "* Make sure you give brief explanations when asked to do so."
   ]
  },
  {
   "cell_type": "markdown",
   "metadata": {
    "editable": false
   },
   "source": [
    "A small dairy wants to make sure that their butter mill is producing bricks of butter that do not differ from the labelled weight by too much. The machine produces 30 bricks of butter per minute and runs for 4 hours Monday, Tuesday, and Wednesday mornings. If the weights of the bricks of butter are deemed to be too high or too low then that afternoon will be dedicated to recalibrating the machines.\n",
    "\n",
    "#### Question 1. ####\n",
    "Use a hypothesis test to determine if Monday's sample indicates we should recalibrate the butter mill.\n",
    "* a. What are my hypotheses? State them in both words and as equations.\n",
    "* b. Every hundredth brick is weighed and the weight difference recorded. \n",
    "  * Suppose we know the sample values are normally distributed. \n",
    "  * On Monday the sample yielded an average of weight differences of -2.5 g and a sample standard deviation of 10.25 g. \n",
    "  * Let $X$ be a random variable representing the difference between the actual weight of a brick of butter and the desired weight of the brick of butter. \n",
    "  * Write the short hand for the distribution of $\\bar{X}$ (the sampling distribution for the sample means).\n",
    "* c. Draw the sampling distribution.\n",
    "* d. Complete the hypothesis test using $\\alpha = 0.03$. \n",
    "  * Shade the region for the p-value\n",
    "  * Compute the p-value.\n",
    "  * Compare the p-value to the critical value.\n",
    "* e. Write the conclusion in terms of what the dairy owner should plan to do Monday afternoon."
   ]
  },
  {
   "cell_type": "markdown",
   "metadata": {
    "editable": false
   },
   "source": [
    "#### Answer 1a: "
   ]
  },
  {
   "cell_type": "markdown",
   "metadata": {},
   "source": [
    "Type your answer in this block."
   ]
  },
  {
   "cell_type": "markdown",
   "metadata": {
    "editable": false
   },
   "source": [
    "#### Answer 1b:"
   ]
  },
  {
   "cell_type": "code",
   "execution_count": null,
   "metadata": {},
   "outputs": [],
   "source": [
    "Type code in this block."
   ]
  },
  {
   "cell_type": "markdown",
   "metadata": {},
   "source": [
    "Type your answer in this block."
   ]
  },
  {
   "cell_type": "markdown",
   "metadata": {
    "editable": false
   },
   "source": [
    "#### Answer 1c:"
   ]
  },
  {
   "cell_type": "code",
   "execution_count": null,
   "metadata": {},
   "outputs": [],
   "source": [
    "Type code in this block."
   ]
  },
  {
   "cell_type": "markdown",
   "metadata": {
    "editable": false
   },
   "source": [
    "#### Answer 1d. "
   ]
  },
  {
   "cell_type": "code",
   "execution_count": null,
   "metadata": {},
   "outputs": [],
   "source": [
    "Type code in this block."
   ]
  },
  {
   "cell_type": "code",
   "execution_count": null,
   "metadata": {},
   "outputs": [],
   "source": [
    "Type code in this block."
   ]
  },
  {
   "cell_type": "code",
   "execution_count": null,
   "metadata": {},
   "outputs": [],
   "source": [
    "Type code in this block."
   ]
  },
  {
   "cell_type": "markdown",
   "metadata": {},
   "source": [
    "Type your answer in this block."
   ]
  },
  {
   "cell_type": "markdown",
   "metadata": {
    "editable": false
   },
   "source": [
    "#### Answer 1e.  "
   ]
  },
  {
   "cell_type": "markdown",
   "metadata": {},
   "source": [
    "Type your answer in this block."
   ]
  },
  {
   "cell_type": "markdown",
   "metadata": {
    "editable": false
   },
   "source": [
    "#### Question 2. ####\n",
    "On Tuesday the sample yielded an average of weight differences of -2.71 g and a sample standard deviation of 9.87 g. Use a hypothesis test to determine if Tuesday's sample indicates we should recalibrate the butter mill.\n",
    "* a. Write the short hand for the distribution of $\\bar{X}$ (the sampling distribution for the sample means).\n",
    "* b. Draw the sampling distribution.\n",
    "* c. Complete the hypothesis test using $\\alpha = 0.03$. \n",
    "  * Shade the region for the p-value\n",
    "  * Compute the p-value.\n",
    "  * Compare the p-value to the critical value.\n",
    "* d. Write the conclusion in terms of what the dairy owner should plan to do Tuesday afternoon."
   ]
  },
  {
   "cell_type": "markdown",
   "metadata": {
    "editable": false
   },
   "source": [
    "#### Answer 2a."
   ]
  },
  {
   "cell_type": "code",
   "execution_count": null,
   "metadata": {},
   "outputs": [],
   "source": [
    "Type code in this block."
   ]
  },
  {
   "cell_type": "markdown",
   "metadata": {},
   "source": [
    "Type your answer in this block."
   ]
  },
  {
   "cell_type": "markdown",
   "metadata": {
    "editable": false
   },
   "source": [
    "#### Answer 2b."
   ]
  },
  {
   "cell_type": "code",
   "execution_count": null,
   "metadata": {},
   "outputs": [],
   "source": [
    "Type code in this block."
   ]
  },
  {
   "cell_type": "markdown",
   "metadata": {
    "editable": false
   },
   "source": [
    "#### Answer 2c."
   ]
  },
  {
   "cell_type": "code",
   "execution_count": null,
   "metadata": {},
   "outputs": [],
   "source": [
    "Type code in this block."
   ]
  },
  {
   "cell_type": "code",
   "execution_count": null,
   "metadata": {},
   "outputs": [],
   "source": [
    "Type code in this block."
   ]
  },
  {
   "cell_type": "code",
   "execution_count": null,
   "metadata": {},
   "outputs": [],
   "source": [
    "Type code in this block."
   ]
  },
  {
   "cell_type": "markdown",
   "metadata": {},
   "source": [
    "Type your answer in this block."
   ]
  },
  {
   "cell_type": "markdown",
   "metadata": {
    "editable": false
   },
   "source": [
    "#### Answer 2d."
   ]
  },
  {
   "cell_type": "markdown",
   "metadata": {},
   "source": [
    "Type your answer in this block."
   ]
  },
  {
   "cell_type": "markdown",
   "metadata": {
    "editable": false
   },
   "source": [
    "### Bonus ###\n",
    "#### Question 3. ####\n",
    "On Wednesday, several employees were home sick and the normal testing routine was not followed. At the end of the day the dairy manager weighed a random sample of ten bricks. This sample yielded the following weights given below (`weight`).\n",
    "* Run the code below. What does the t test tell you? Would you advise the dairy manager to recalibrate the butter mill?"
   ]
  },
  {
   "cell_type": "code",
   "execution_count": null,
   "metadata": {
    "editable": false
   },
   "outputs": [],
   "source": [
    "weight <- c(453.85, 452.3, 455.01, 455.99, 455.39, 454.92, 455.89, 452.4, 451.3, 456.27)\n",
    "wed.data <- data.frame(weight, wtDiff <- weight - 454)\n",
    "t.test(wed.data$wtDiff)"
   ]
  },
  {
   "cell_type": "code",
   "execution_count": null,
   "metadata": {
    "scrolled": false
   },
   "outputs": [],
   "source": [
    "hist(weight,breaks=10)\n",
    "sd(weight)\n",
    "mean(weight)\n",
    "boxplot(weight,horizontal=TRUE)"
   ]
  },
  {
   "cell_type": "markdown",
   "metadata": {
    "editable": false
   },
   "source": [
    "#### Answer 3."
   ]
  },
  {
   "cell_type": "markdown",
   "metadata": {},
   "source": [
    "Type your answer in this block."
   ]
  }
 ],
 "metadata": {
  "celltoolbar": "Edit Metadata",
  "kernelspec": {
   "display_name": "R",
   "language": "R",
   "name": "ir"
  },
  "language_info": {
   "codemirror_mode": "r",
   "file_extension": ".r",
   "mimetype": "text/x-r-source",
   "name": "R",
   "pygments_lexer": "r",
   "version": "3.6.2"
  }
 },
 "nbformat": 4,
 "nbformat_minor": 2
}
